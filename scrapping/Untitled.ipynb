{
 "cells": [
  {
   "cell_type": "markdown",
   "metadata": {},
   "source": [
    "There are some online pages that include glosseries that you can automatically extract."
   ]
  },
  {
   "cell_type": "markdown",
   "metadata": {},
   "source": [
    "In our example, we will use a glossary made of google that includes OOOOO machine learning related terms"
   ]
  },
  {
   "cell_type": "code",
   "execution_count": 1,
   "metadata": {},
   "outputs": [],
   "source": [
    "import urllib\n",
    "\n",
    "SOURCE_URL = \"https://developers.google.com/machine-learning/glossary\"\n",
    "with urllib.request.urlopen(SOURCE_URL) as fp:\n",
    "    doc_html = fp.read().decode(\"utf8\")"
   ]
  },
  {
   "cell_type": "markdown",
   "metadata": {},
   "source": [
    "=== EMBED IMAGE ==="
   ]
  },
  {
   "cell_type": "markdown",
   "metadata": {},
   "source": [
    "Now we have the html code of this page"
   ]
  },
  {
   "cell_type": "code",
   "execution_count": 8,
   "metadata": {},
   "outputs": [
    {
     "data": {
      "text/plain": [
       "'<!doctype html>\\n<html \\n      lang=\"en\"\\n      dir=\"ltr\">\\n  <head>\\n    \\n    \\n    \\n    \\n    <meta name=\"google-signin-client-id\" content=\"721724668570-nbkv1cfusk7kk4eni4pjvepaus73b13t.apps.googleusercontent.com\">\\n    <meta name=\"google-signin-scope\"\\n          content=\"profile email\">\\n    <meta property=\"og:site_name\" content=\"Google Developers\">\\n    <meta property=\"og:type\" content=\"website\">\\n    \\n\\n    \\n      <meta name=\"theme-color\" content=\"#ffffff\">\\n    \\n\\n    <meta charset=\"utf-8\">\\n    <meta content=\"IE=Edge\" http-equiv=\"X-UA-Compatible\">\\n    <meta name=\"viewport\" content=\"width=device-width, initial-scale=1\">\\n    <link rel=\"manifest\" href=\"/_pwa/developers/manifest.json\"\\n          crossorigin=\"use-credentials\">\\n    <link rel=\"preconnect\" href=\"//www.gstatic.com\" crossorigin>\\n    <link rel=\"preconnect\" href=\"//fonts.gstatic.com\" crossorigin>\\n    <link rel=\"preconnect\" href=\"//fonts.googleapis.com\" crossorigin>\\n    <link rel=\"preconnect\" href=\"//apis.google.com\" crossorigin>\\n    <link r'"
      ]
     },
     "execution_count": 8,
     "metadata": {},
     "output_type": "execute_result"
    }
   ],
   "source": [
    "doc_html[:1000]"
   ]
  },
  {
   "cell_type": "markdown",
   "metadata": {},
   "source": [
    "If you go through the code, you can see that all the keywords that we are looking for are in a tag as below:"
   ]
  },
  {
   "cell_type": "markdown",
   "metadata": {},
   "source": [
    "=== Tag==="
   ]
  },
  {
   "cell_type": "markdown",
   "metadata": {},
   "source": [
    "The library Beautifulsoup can help us extracting these tags easily"
   ]
  },
  {
   "cell_type": "code",
   "execution_count": 25,
   "metadata": {},
   "outputs": [
    {
     "data": {
      "text/plain": [
       "[]"
      ]
     },
     "execution_count": 25,
     "metadata": {},
     "output_type": "execute_result"
    }
   ],
   "source": [
    "[1][1:]"
   ]
  },
  {
   "cell_type": "code",
   "execution_count": 32,
   "metadata": {},
   "outputs": [],
   "source": [
    "from bs4 import BeautifulSoup\n",
    "\n",
    "soup = BeautifulSoup(doc_html, \"html.parser\")\n",
    "keywords = [\n",
    "    h2.text.strip().lower()\n",
    "    for h2 in soup.find_all(name='h2', attrs={'class': \"hide-from-toc\"})\n",
    "]"
   ]
  },
  {
   "cell_type": "markdown",
   "metadata": {},
   "source": [
    "This gives us a clean list with the keywords as expected"
   ]
  },
  {
   "cell_type": "code",
   "execution_count": 33,
   "metadata": {},
   "outputs": [
    {
     "data": {
      "text/plain": [
       "['a/b testing',\n",
       " 'accuracy',\n",
       " 'action',\n",
       " 'activation function',\n",
       " 'active learning',\n",
       " 'adagrad',\n",
       " 'agent',\n",
       " 'agglomerative clustering',\n",
       " 'ar',\n",
       " 'area under the pr curve',\n",
       " 'area under the roc curve',\n",
       " 'artificial general intelligence',\n",
       " 'artificial intelligence',\n",
       " 'attribute',\n",
       " 'auc (area under the roc curve)',\n",
       " 'augmented reality',\n",
       " 'automation bias',\n",
       " 'average precision',\n",
       " 'backpropagation',\n",
       " 'bag of words',\n",
       " 'baseline',\n",
       " 'batch',\n",
       " 'batch normalization',\n",
       " 'batch size',\n",
       " 'bayesian neural network',\n",
       " 'bellman equation',\n",
       " 'bias (ethics/fairness)',\n",
       " 'bias (math)',\n",
       " 'bigram',\n",
       " 'binary classification',\n",
       " 'binning',\n",
       " 'boosting',\n",
       " 'bounding box',\n",
       " 'broadcasting',\n",
       " 'bucketing',\n",
       " 'calibration layer',\n",
       " 'candidate generation',\n",
       " 'candidate sampling',\n",
       " 'categorical data',\n",
       " 'centroid',\n",
       " 'centroid-based clustering',\n",
       " 'checkpoint',\n",
       " 'class',\n",
       " 'classification model',\n",
       " 'classification threshold',\n",
       " 'class-imbalanced dataset',\n",
       " 'clipping',\n",
       " 'cloud tpu',\n",
       " 'clustering',\n",
       " 'co-adaptation',\n",
       " 'collaborative filtering',\n",
       " 'confirmation bias',\n",
       " 'confusion matrix',\n",
       " 'continuous feature',\n",
       " 'convenience sampling',\n",
       " 'convergence',\n",
       " 'convex function',\n",
       " 'convex optimization',\n",
       " 'convex set',\n",
       " 'convolution',\n",
       " 'convolutional filter',\n",
       " 'convolutional layer',\n",
       " 'convolutional neural network',\n",
       " 'convolutional operation',\n",
       " 'cost',\n",
       " 'counterfactual fairness',\n",
       " 'coverage bias',\n",
       " 'crash blossom',\n",
       " 'critic',\n",
       " 'cross-entropy',\n",
       " 'cross-validation',\n",
       " 'custom estimator',\n",
       " 'data analysis',\n",
       " 'data augmentation',\n",
       " 'dataframe',\n",
       " 'data set or dataset',\n",
       " 'dataset api (tf.data)',\n",
       " 'decision boundary',\n",
       " 'decision threshold',\n",
       " 'decision tree',\n",
       " 'deep model',\n",
       " 'deep neural network',\n",
       " 'deep q-network (dqn)',\n",
       " 'demographic parity',\n",
       " 'dense feature',\n",
       " 'dense layer',\n",
       " 'depth',\n",
       " 'depthwise separable convolutional neural network (sepcnn)',\n",
       " 'device',\n",
       " 'dimension reduction',\n",
       " 'dimensions',\n",
       " 'discrete feature',\n",
       " 'discriminative model',\n",
       " 'discriminator',\n",
       " 'disparate impact',\n",
       " 'disparate treatment',\n",
       " 'divisive clustering',\n",
       " 'downsampling',\n",
       " 'dqn',\n",
       " 'dropout regularization']"
      ]
     },
     "execution_count": 33,
     "metadata": {},
     "output_type": "execute_result"
    }
   ],
   "source": [
    "keywords[:100]"
   ]
  },
  {
   "cell_type": "markdown",
   "metadata": {},
   "source": [
    "This list is not bad for a start, we already have 412 keywords:"
   ]
  },
  {
   "cell_type": "code",
   "execution_count": 30,
   "metadata": {},
   "outputs": [],
   "source": [
    "x = soup.find_all(name='a', attrs={'class': \"hide-from-toc\"})"
   ]
  },
  {
   "cell_type": "code",
   "execution_count": 31,
   "metadata": {},
   "outputs": [
    {
     "ename": "IndexError",
     "evalue": "list index out of range",
     "output_type": "error",
     "traceback": [
      "\u001b[0;31m---------------------------------------------------------------------------\u001b[0m",
      "\u001b[0;31mIndexError\u001b[0m                                Traceback (most recent call last)",
      "\u001b[0;32m<ipython-input-31-2f755f117ac9>\u001b[0m in \u001b[0;36m<module>\u001b[0;34m\u001b[0m\n\u001b[0;32m----> 1\u001b[0;31m \u001b[0mx\u001b[0m\u001b[0;34m[\u001b[0m\u001b[0;36m0\u001b[0m\u001b[0;34m]\u001b[0m\u001b[0;34m\u001b[0m\u001b[0;34m\u001b[0m\u001b[0m\n\u001b[0m",
      "\u001b[0;31mIndexError\u001b[0m: list index out of range"
     ]
    }
   ],
   "source": [
    "x[0]"
   ]
  },
  {
   "cell_type": "code",
   "execution_count": null,
   "metadata": {},
   "outputs": [],
   "source": []
  }
 ],
 "metadata": {
  "kernelspec": {
   "display_name": "Python 3",
   "language": "python",
   "name": "python3"
  },
  "language_info": {
   "codemirror_mode": {
    "name": "ipython",
    "version": 3
   },
   "file_extension": ".py",
   "mimetype": "text/x-python",
   "name": "python",
   "nbconvert_exporter": "python",
   "pygments_lexer": "ipython3",
   "version": "3.7.9"
  }
 },
 "nbformat": 4,
 "nbformat_minor": 4
}
