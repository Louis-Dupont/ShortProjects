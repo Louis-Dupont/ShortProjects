{
 "cells": [
  {
   "cell_type": "markdown",
   "metadata": {},
   "source": [
    "There are some online pages that include glosseries that you can automatically extract."
   ]
  },
  {
   "cell_type": "markdown",
   "metadata": {},
   "source": [
    "In our example, we will use a glossary made of google that includes OOOOO machine learning related terms"
   ]
  },
  {
   "cell_type": "code",
   "execution_count": 1,
   "metadata": {},
   "outputs": [],
   "source": [
    "import urllib\n",
    "\n",
    "SOURCE_URL = \"https://developers.google.com/machine-learning/glossary\"\n",
    "with urllib.request.urlopen(SOURCE_URL) as fp:\n",
    "    doc_html = fp.read().decode(\"utf8\")"
   ]
  },
  {
   "cell_type": "markdown",
   "metadata": {},
   "source": [
    "=== EMBED IMAGE ==="
   ]
  },
  {
   "cell_type": "markdown",
   "metadata": {},
   "source": [
    "Now we have the html code of this page"
   ]
  },
  {
   "cell_type": "code",
   "execution_count": 8,
   "metadata": {},
   "outputs": [
    {
     "data": {
      "text/plain": [
       "'<!doctype html>\\n<html \\n      lang=\"en\"\\n      dir=\"ltr\">\\n  <head>\\n    \\n    \\n    \\n    \\n    <meta name=\"google-signin-client-id\" content=\"721724668570-nbkv1cfusk7kk4eni4pjvepaus73b13t.apps.googleusercontent.com\">\\n    <meta name=\"google-signin-scope\"\\n          content=\"profile email\">\\n    <meta property=\"og:site_name\" content=\"Google Developers\">\\n    <meta property=\"og:type\" content=\"website\">\\n    \\n\\n    \\n      <meta name=\"theme-color\" content=\"#ffffff\">\\n    \\n\\n    <meta charset=\"utf-8\">\\n    <meta content=\"IE=Edge\" http-equiv=\"X-UA-Compatible\">\\n    <meta name=\"viewport\" content=\"width=device-width, initial-scale=1\">\\n    <link rel=\"manifest\" href=\"/_pwa/developers/manifest.json\"\\n          crossorigin=\"use-credentials\">\\n    <link rel=\"preconnect\" href=\"//www.gstatic.com\" crossorigin>\\n    <link rel=\"preconnect\" href=\"//fonts.gstatic.com\" crossorigin>\\n    <link rel=\"preconnect\" href=\"//fonts.googleapis.com\" crossorigin>\\n    <link rel=\"preconnect\" href=\"//apis.google.com\" crossorigin>\\n    <link r'"
      ]
     },
     "execution_count": 8,
     "metadata": {},
     "output_type": "execute_result"
    }
   ],
   "source": [
    "doc_html[:1000]"
   ]
  },
  {
   "cell_type": "markdown",
   "metadata": {},
   "source": [
    "If you go through the code, you can see that all the keywords that we are looking for are in a tag as below:"
   ]
  },
  {
   "cell_type": "markdown",
   "metadata": {},
   "source": [
    "=== Tag==="
   ]
  },
  {
   "cell_type": "markdown",
   "metadata": {},
   "source": [
    "The library Beautifulsoup can help us extracting these tags easily"
   ]
  },
  {
   "cell_type": "code",
   "execution_count": 25,
   "metadata": {},
   "outputs": [
    {
     "data": {
      "text/plain": [
       "[]"
      ]
     },
     "execution_count": 25,
     "metadata": {},
     "output_type": "execute_result"
    }
   ],
   "source": [
    "[1][1:]"
   ]
  },
  {
   "cell_type": "code",
   "execution_count": 28,
   "metadata": {},
   "outputs": [],
   "source": [
    "from bs4 import BeautifulSoup\n",
    "\n",
    "soup = BeautifulSoup(doc_html, \"html.parser\")\n",
    "keywords = [\n",
    "    h2.text.strip().lower()\n",
    "    for h2 in soup.find_all(name='a', attrs={'class': \"hide-from-toc\"})\n",
    "]"
   ]
  },
  {
   "cell_type": "markdown",
   "metadata": {},
   "source": [
    "This gives us a clean list with the keywords as expected"
   ]
  },
  {
   "cell_type": "code",
   "execution_count": 29,
   "metadata": {},
   "outputs": [
    {
     "data": {
      "text/plain": [
       "[]"
      ]
     },
     "execution_count": 29,
     "metadata": {},
     "output_type": "execute_result"
    }
   ],
   "source": [
    "keywords[:100]"
   ]
  },
  {
   "cell_type": "markdown",
   "metadata": {},
   "source": [
    "This list is not bad for a start, we already have 412 keywords:"
   ]
  },
  {
   "cell_type": "code",
   "execution_count": 20,
   "metadata": {},
   "outputs": [
    {
     "data": {
      "text/plain": [
       "412"
      ]
     },
     "execution_count": 20,
     "metadata": {},
     "output_type": "execute_result"
    }
   ],
   "source": [
    "len(keywords)"
   ]
  },
  {
   "cell_type": "code",
   "execution_count": null,
   "metadata": {},
   "outputs": [],
   "source": []
  }
 ],
 "metadata": {
  "kernelspec": {
   "display_name": "Python 3",
   "language": "python",
   "name": "python3"
  },
  "language_info": {
   "codemirror_mode": {
    "name": "ipython",
    "version": 3
   },
   "file_extension": ".py",
   "mimetype": "text/x-python",
   "name": "python",
   "nbconvert_exporter": "python",
   "pygments_lexer": "ipython3",
   "version": "3.7.9"
  }
 },
 "nbformat": 4,
 "nbformat_minor": 4
}
